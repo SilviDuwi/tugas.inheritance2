{
  "nbformat": 4,
  "nbformat_minor": 0,
  "metadata": {
    "colab": {
      "provenance": [],
      "include_colab_link": true
    },
    "kernelspec": {
      "name": "python3",
      "display_name": "Python 3"
    },
    "language_info": {
      "name": "python"
    }
  },
  "cells": [
    {
      "cell_type": "markdown",
      "metadata": {
        "id": "view-in-github",
        "colab_type": "text"
      },
      "source": [
        "<a href=\"https://colab.research.google.com/github/SilviDuwi/tugas.inheritance2/blob/main/Salinan_dari_TugasInheritanceSiswa2.ipynb\" target=\"_parent\"><img src=\"https://colab.research.google.com/assets/colab-badge.svg\" alt=\"Open In Colab\"/></a>"
      ]
    },
    {
      "cell_type": "markdown",
      "source": [
        "Buatlah tiga kelas: User, Siswa, dan Guru. Class Siswa dan Guru mewarisi atribute dan fungsi dari class User. Keduanya menambahkan atribut dan fungsi tambahan sesuai dengan peran masing-masing.\n",
        "\n",
        "Output dari program ini akan menampilkan informasi seorang siswa dan seorang guru dengan menggunakan fungsi tampil_info() yang diwarisi dari class User. Untuk info user yang ditampilkan silakan ditentukan sendiri minimal ada nama dan umur.\n",
        "\n",
        "Untuk informasi khusus dari siswa dan guru silakan tentukan sendiri, minimal satu atribute tambahan yang membedakan antara siswa dan guru."
      ],
      "metadata": {
        "id": "oWYx5WDsIouf"
      }
    },
    {
      "cell_type": "code",
      "execution_count": null,
      "metadata": {
        "id": "VQWWW4rpH9ve"
      },
      "outputs": [],
      "source": [
        "class User :\n",
        " def __init__ (self, nama, umur, asal):\n",
        "\n",
        "    self.nama = nama\n",
        "    self.umur = umur\n",
        "    self.asal = asal\n",
        "\n",
        "def tampil_info (self):\n",
        "    pass"
      ]
    },
    {
      "cell_type": "code",
      "source": [
        "class Siswa (User):\n",
        " def __init__ (self,  nama, umur, asal, kelas):\n",
        "\n",
        "    super().__init__(nama, umur, asal)\n",
        "\n",
        "    self.kelas = kelas\n",
        "\n",
        " def tampil_info (self):\n",
        "    return self.kelas"
      ],
      "metadata": {
        "id": "i_iBjMciJJc5"
      },
      "execution_count": null,
      "outputs": []
    },
    {
      "cell_type": "code",
      "source": [
        "class Guru (User):\n",
        "\n",
        " def __init__ (self,  nama, umur, asal, mapel):\n",
        "\n",
        "    super().__init__(nama, umur, asal)\n",
        "\n",
        "    self.mapel = mapel\n",
        "\n",
        "def tampil_info (self):\n",
        "   return self.mapel"
      ],
      "metadata": {
        "id": "lrnlKm6sJMjp"
      },
      "execution_count": null,
      "outputs": []
    },
    {
      "cell_type": "code",
      "source": [
        "#Program utama untuk menampilkan info\n",
        "siswa = Siswa(\"duwi\", \"17\", \"malang\", \"animasi\")\n",
        "guru = Guru(\"nabila\", \"30\", \"jakarta\", \"Bahasa indonesia\")\n",
        "\n",
        "#Menampilkan info\n",
        "print(f\"Nama: {siswa.nama} umur : {siswa.umur} asal : {siswa.asal} kelas : {siswa.kelas}\")\n",
        "print(f\"Nama : {guru.nama} umur : {guru.umur} asal : {guru.asal} mengajar mapel : {guru.mapel}\")"
      ],
      "metadata": {
        "id": "VDGIma_2JOVx",
        "colab": {
          "base_uri": "https://localhost:8080/"
        },
        "outputId": "72088b20-b51b-4e9d-8ae7-8d90ab6d746d"
      },
      "execution_count": null,
      "outputs": [
        {
          "output_type": "stream",
          "name": "stdout",
          "text": [
            "Nama: duwi umur : 17 asal : malang kelas : animasi\n",
            "Nama : nabila umur : 30 asal : jakarta mengajar mapel : Bahasa indonesia\n"
          ]
        }
      ]
    }
  ]
}